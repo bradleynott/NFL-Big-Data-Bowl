{
 "cells": [
  {
   "cell_type": "code",
   "execution_count": 1,
   "metadata": {},
   "outputs": [],
   "source": [
    "import os\n",
    "import pandas as pd"
   ]
  },
  {
   "cell_type": "code",
   "execution_count": 2,
   "metadata": {},
   "outputs": [],
   "source": [
    "os.chdir('C:/Users/Brad/Desktop/NFL Data/Big-Data-Bowl-master/Big-Data-Bowl-master/Data')"
   ]
  },
  {
   "cell_type": "markdown",
   "metadata": {},
   "source": [
    "For a given play, is the `first_contact` tag unique to a particular player?\n",
    "\n",
    "- Ideally it should be unique to the ball carrier to support measuring rusher yards gained after contact"
   ]
  },
  {
   "cell_type": "code",
   "execution_count": 5,
   "metadata": {},
   "outputs": [
    {
     "data": {
      "text/plain": [
       "array([22,  1, 21], dtype=int64)"
      ]
     },
     "execution_count": 5,
     "metadata": {},
     "output_type": "execute_result"
    }
   ],
   "source": [
    "# Load a sample tracking data file\n",
    "df_test = pd.read_csv('tracking_gameId_2017090700.csv')\n",
    "\n",
    "# Subset to only keep the rows with a first_contact tag\n",
    "df_contact = df_test[df_test['event'] == 'first_contact']\n",
    "\n",
    "# check how many players on a given play have the first_contact tag\n",
    "df_contact.groupby(['playId'])['event'].value_counts().unique()"
   ]
  },
  {
   "cell_type": "markdown",
   "metadata": {},
   "source": [
    "In this particular game, across all plays there are only 3 unique-sized groups of players who have the `first_contact` tag: 22, 21, or 1 players. In other words, it is common for each player involved on a play to have this tag.\n",
    "\n",
    "With that in mind, let's also check if all the _times_ associated with those tags are identical. If they are, then the `first_contact` tag itself is not necessarily unique to when a particular player makes contact with the defense."
   ]
  },
  {
   "cell_type": "code",
   "execution_count": 8,
   "metadata": {},
   "outputs": [
    {
     "data": {
      "text/plain": [
       "array([22,  1, 21], dtype=int64)"
      ]
     },
     "execution_count": 8,
     "metadata": {},
     "output_type": "execute_result"
    }
   ],
   "source": [
    "# Are the times the same?\n",
    "df_contact.groupby(['playId'])['time'].value_counts().unique()"
   ]
  },
  {
   "cell_type": "markdown",
   "metadata": {},
   "source": [
    "So all players on a given play are assigned the `first_contact` tag at the same exact times. So what does the `first_contact` tag even mean?\n",
    "\n",
    "If we cannot resolve the context of the tag using a player name or a time, we will try to derive its meaning relative to other tags.\n",
    "\n",
    "To establish the proper context, we need to know what event tags commonly occur immediately before the `first_contact` tag."
   ]
  },
  {
   "cell_type": "code",
   "execution_count": 16,
   "metadata": {},
   "outputs": [],
   "source": [
    "# Prepare to store all tags that immediately precede a first_contact event tag\n",
    "precedes_first_contact = []\n",
    "\n",
    "# Begin with no previous event tag\n",
    "previous = None\n",
    "\n",
    "# For a given tracking data file, loop over event column\n",
    "for event in df_test['event']:\n",
    "    \n",
    "    # Assign a new current tag\n",
    "    current = event\n",
    "    \n",
    "    if type(event) != str:\n",
    "        \n",
    "        # Ignore nan tag; continue loop\n",
    "        continue\n",
    "        \n",
    "    elif current == 'first_contact':\n",
    "        \n",
    "        # Store event tag that came before a first_contact event tag\n",
    "        if previous not in precedes_first_contact:\n",
    "            precedes_first_contact.append(previous)\n",
    "    \n",
    "    # Assign current tag as the new previous tag; advance the loop\n",
    "    previous = current"
   ]
  },
  {
   "cell_type": "markdown",
   "metadata": {},
   "source": [
    "While each player has the `first_contact` tag at the same timestamp, the tag only ever appears following these tags:"
   ]
  },
  {
   "cell_type": "code",
   "execution_count": 17,
   "metadata": {},
   "outputs": [
    {
     "data": {
      "text/plain": [
       "['kick_received',\n",
       " 'pass_outcome_caught',\n",
       " 'handoff',\n",
       " 'fumble',\n",
       " 'run',\n",
       " 'ball_snap',\n",
       " 'lateral',\n",
       " 'pass_arrived',\n",
       " 'punt_received']"
      ]
     },
     "execution_count": 17,
     "metadata": {},
     "output_type": "execute_result"
    }
   ],
   "source": [
    "precedes_first_contact"
   ]
  },
  {
   "cell_type": "markdown",
   "metadata": {},
   "source": [
    "This list of event tags seems to suggest that the `first_contact` tag is supposed to describe the moment that a **ball carrier** makes contact with a defender."
   ]
  },
  {
   "cell_type": "markdown",
   "metadata": {},
   "source": [
    "**Conclusion:** the `first_contact` tag is not unique to a particular player, but it does appear to be unique, in context, to a ball carrier. Therefore, if we know who the ball carrier is, we can use the `first_contact` tag to explain when that ball carrier makes contact with a defender. Then, to assess yards gained after contact, all we need to do is measure distance moved downfield from the `first_contact` tag until the time when the player is down, scores a touchdown, runs out of bounds, etc."
   ]
  }
 ],
 "metadata": {
  "kernelspec": {
   "display_name": "Python 3",
   "language": "python",
   "name": "python3"
  },
  "language_info": {
   "codemirror_mode": {
    "name": "ipython",
    "version": 3
   },
   "file_extension": ".py",
   "mimetype": "text/x-python",
   "name": "python",
   "nbconvert_exporter": "python",
   "pygments_lexer": "ipython3",
   "version": "3.7.1"
  }
 },
 "nbformat": 4,
 "nbformat_minor": 2
}
